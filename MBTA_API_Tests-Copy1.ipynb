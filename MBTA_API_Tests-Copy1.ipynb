{
 "cells": [
  {
   "cell_type": "markdown",
   "metadata": {},
   "source": [
    "# Predict the Next Train Using MBTA's \"Prediction by Stop\""
   ]
  },
  {
   "cell_type": "markdown",
   "metadata": {},
   "source": [
    "Link to get predictions of next green line trains from Blanchard St Station:\n",
    "\n",
    "http://realtime.mbta.com/developer/api/v2/predictionsbystop?api_key=wX9NwuHnZU2ToO7GmGR9uw&stop=place-bland&format=xml\n",
    "\n",
    "The predictions will be returned in Unix time, so we will need to import the datetime to convert to time we can understand."
   ]
  },
  {
   "cell_type": "code",
   "execution_count": 9,
   "metadata": {
    "collapsed": false
   },
   "outputs": [
    {
     "name": "stdout",
     "output_type": "stream",
     "text": [
      "The next train is at: 2016-04-04 21:16:58\n",
      "The time is now: 2016-04-04 21:14:09.787888\n"
     ]
    }
   ],
   "source": [
    "import datetime as dt\n",
    "\n",
    "# pre_dt from the URL gives you the predicted time of the next train. \n",
    "# Let's use this as an example:\n",
    "next_train = 1459819018\n",
    "converted_next_train = dt.datetime.fromtimestamp(next_train)\n",
    "print \"The next train is at:\", converted_next_train\n",
    "\n",
    "#now_time = dt.datetime.now()\n",
    "print \"The time is now:\", now_time"
   ]
  },
  {
   "cell_type": "markdown",
   "metadata": {},
   "source": [
    " You can take these times and subtract them from each other to know how long you have until the next train!!! So cool.\n",
    " I don't like how the microseconds are kept.... Trying to figure out how to remove them."
   ]
  },
  {
   "cell_type": "code",
   "execution_count": 10,
   "metadata": {
    "collapsed": false
   },
   "outputs": [
    {
     "name": "stdout",
     "output_type": "stream",
     "text": [
      "You have 0:02:48.212112 until the next train.\n"
     ]
    }
   ],
   "source": [
    "time_to_next_train = converted_next_train - now_time\n",
    "print \"You have\", time_to_next_train, \"until the next train.\""
   ]
  },
  {
   "cell_type": "markdown",
   "metadata": {},
   "source": [
    "Convert the time until the next train into seconds! Report no decimal points."
   ]
  },
  {
   "cell_type": "code",
   "execution_count": 1,
   "metadata": {
    "collapsed": false
   },
   "outputs": [
    {
     "ename": "NameError",
     "evalue": "name 'time_to_next_train' is not defined",
     "output_type": "error",
     "traceback": [
      "\u001b[1;31m---------------------------------------------------------------------------\u001b[0m",
      "\u001b[1;31mNameError\u001b[0m                                 Traceback (most recent call last)",
      "\u001b[1;32m<ipython-input-1-500d3c98ed77>\u001b[0m in \u001b[0;36m<module>\u001b[1;34m()\u001b[0m\n\u001b[1;32m----> 1\u001b[1;33m \u001b[0mtime_to_next_train_seconds\u001b[0m \u001b[1;33m=\u001b[0m \u001b[0mtime_to_next_train\u001b[0m\u001b[1;33m.\u001b[0m\u001b[0mtotal_seconds\u001b[0m\u001b[1;33m(\u001b[0m\u001b[1;33m)\u001b[0m\u001b[1;33m\u001b[0m\u001b[0m\n\u001b[0m\u001b[0;32m      2\u001b[0m \u001b[1;32mprint\u001b[0m \u001b[1;34m\"You have %.0f seconds until the next train.\"\u001b[0m \u001b[1;33m%\u001b[0m \u001b[0mtime_to_next_train_seconds\u001b[0m\u001b[1;33m\u001b[0m\u001b[0m\n",
      "\u001b[1;31mNameError\u001b[0m: name 'time_to_next_train' is not defined"
     ]
    }
   ],
   "source": [
    "time_to_next_train_seconds = time_to_next_train.total_seconds()\n",
    "print \"You have %.0f seconds until the next train.\" % time_to_next_train_seconds"
   ]
  },
  {
   "cell_type": "code",
   "execution_count": 3,
   "metadata": {
    "collapsed": false
   },
   "outputs": [
    {
     "data": {
      "text/plain": [
       "'11:17:15.979000'"
      ]
     },
     "execution_count": 3,
     "metadata": {},
     "output_type": "execute_result"
    }
   ],
   "source": [
    "import datetime\n",
    "current_time = datetime.datetime.now().time()\n",
    "current_time.isoformat()"
   ]
  },
  {
   "cell_type": "code",
   "execution_count": 75,
   "metadata": {
    "collapsed": false
   },
   "outputs": [],
   "source": [
    "import json\n",
    "import urllib2\n",
    "\n",
    "stops = 'http://realtime.mbta.com/developer/api/v2/predictionsbystop?api_key=\\\n",
    "wX9NwuHnZU2ToO7GmGR9uw&stop=place-bland&format=json'\n",
    "stop_data = json.load(urllib2.urlopen(stops))"
   ]
  },
  {
   "cell_type": "code",
   "execution_count": 80,
   "metadata": {
    "collapsed": false
   },
   "outputs": [
    {
     "name": "stdout",
     "output_type": "stream",
     "text": [
      "[\n",
      "    {\n",
      "        \"pre_away\": \"216\", \n",
      "        \"pre_dt\": \"1461081665\", \n",
      "        \"trip_headsign\": \"Park Street\", \n",
      "        \"trip_id\": \"701_1\", \n",
      "        \"trip_name\": \"B train from Boston College to Park Street\", \n",
      "        \"vehicle\": {\n",
      "            \"vehicle_bearing\": \"98\", \n",
      "            \"vehicle_id\": \"3631\", \n",
      "            \"vehicle_lat\": \"42.35065\", \n",
      "            \"vehicle_lon\": \"-71.1121\", \n",
      "            \"vehicle_timestamp\": \"1461081434\"\n",
      "        }\n",
      "    }, \n",
      "    {\n",
      "        \"pre_away\": \"284\", \n",
      "        \"pre_dt\": \"1461081733\", \n",
      "        \"trip_headsign\": \"Park Street\", \n",
      "        \"trip_id\": \"705_1\", \n",
      "        \"trip_name\": \"B train from Boston College to Park Street\", \n",
      "        \"vehicle\": {\n",
      "            \"vehicle_bearing\": \"99\", \n",
      "            \"vehicle_id\": \"3600\", \n",
      "            \"vehicle_lat\": \"42.35096\", \n",
      "            \"vehicle_lon\": \"-71.11469\", \n",
      "            \"vehicle_timestamp\": \"1461081439\"\n",
      "        }\n",
      "    }, \n",
      "    {\n",
      "        \"pre_away\": \"432\", \n",
      "        \"pre_dt\": \"1461081881\", \n",
      "        \"trip_headsign\": \"Park Street\", \n",
      "        \"trip_id\": \"721_1\", \n",
      "        \"trip_name\": \"B train from Boston College to Park Street\", \n",
      "        \"vehicle\": {\n",
      "            \"vehicle_bearing\": \"98\", \n",
      "            \"vehicle_id\": \"3882\", \n",
      "            \"vehicle_lat\": \"42.35147\", \n",
      "            \"vehicle_lon\": \"-71.11906\", \n",
      "            \"vehicle_timestamp\": \"1461081425\"\n",
      "        }\n",
      "    }, \n",
      "    {\n",
      "        \"pre_away\": \"857\", \n",
      "        \"pre_dt\": \"1461082306\", \n",
      "        \"trip_headsign\": \"Park Street\", \n",
      "        \"trip_id\": \"725_1\", \n",
      "        \"trip_name\": \"B train from Boston College to Park Street\", \n",
      "        \"vehicle\": {\n",
      "            \"vehicle_bearing\": \"56\", \n",
      "            \"vehicle_id\": \"3805\", \n",
      "            \"vehicle_lat\": \"42.35013\", \n",
      "            \"vehicle_lon\": \"-71.13158\", \n",
      "            \"vehicle_timestamp\": \"1461081411\"\n",
      "        }\n",
      "    }, \n",
      "    {\n",
      "        \"pre_away\": \"1188\", \n",
      "        \"pre_dt\": \"1461082637\", \n",
      "        \"trip_headsign\": \"Park Street\", \n",
      "        \"trip_id\": \"731_1\", \n",
      "        \"trip_name\": \"B train from Boston College to Park Street\", \n",
      "        \"vehicle\": {\n",
      "            \"vehicle_bearing\": \"28\", \n",
      "            \"vehicle_id\": \"3664\", \n",
      "            \"vehicle_lat\": \"42.34568\", \n",
      "            \"vehicle_lon\": \"-71.14147\", \n",
      "            \"vehicle_timestamp\": \"1461081436\"\n",
      "        }\n",
      "    }\n",
      "]\n"
     ]
    }
   ],
   "source": [
    "westbound_trains_list = stop_data['mode'][0]['route'][0]['direction'][0]['trip']\n",
    "eastbound_trains_list = stop_data['mode'][0]['route'][0]['direction'][1]['trip']\n",
    "\n",
    "print json.dumps(eastbound_trains_list, indent=4, sort_keys=True)\n"
   ]
  },
  {
   "cell_type": "code",
   "execution_count": 77,
   "metadata": {
    "collapsed": false
   },
   "outputs": [
    {
     "name": "stdout",
     "output_type": "stream",
     "text": [
      "The next Boston College train(s) arrive in:\n",
      "0:02:03.858463\n"
     ]
    }
   ],
   "source": [
    "next_west_times = []\n",
    "for i in range(0,len(westbound_trains_list)):\n",
    "    now_time = dt.datetime.now()\n",
    "    next_unix_time = float(westbound_trains_list[i]['pre_dt'])\n",
    "    converted_next_train = dt.datetime.fromtimestamp(next_unix_time)\n",
    "    next_west_times.append(converted_next_train-now_time)\n",
    "    \n",
    "print \"The next Boston College train(s) arrive in:\"\n",
    "for i in range(0,len(next_west_times)):\n",
    "    print next_west_times[i]\n"
   ]
  },
  {
   "cell_type": "code",
   "execution_count": 81,
   "metadata": {
    "collapsed": false
   },
   "outputs": [
    {
     "name": "stdout",
     "output_type": "stream",
     "text": [
      "The next East Bound train(s) arrive in:\n",
      "0:01:33.997756\n",
      "0:02:41.997727\n",
      "0:05:09.997719\n",
      "0:12:14.997711\n",
      "0:17:45.997704\n"
     ]
    }
   ],
   "source": [
    "next_east_times = []\n",
    "for i in range(0,len(eastbound_trains_list)):\n",
    "    now_time = dt.datetime.now()\n",
    "    next_unix_time = float(eastbound_trains_list[i]['pre_dt'])\n",
    "    converted_next_train = dt.datetime.fromtimestamp(next_unix_time)\n",
    "    next_east_times.append(converted_next_train-now_time)\n",
    "    \n",
    "print \"The next East Bound train(s) arrive in:\"\n",
    "for i in range(0,len(next_east_times)):\n",
    "    print next_east_times[i]"
   ]
  },
  {
   "cell_type": "code",
   "execution_count": null,
   "metadata": {
    "collapsed": true
   },
   "outputs": [],
   "source": []
  }
 ],
 "metadata": {
  "kernelspec": {
   "display_name": "Python 2",
   "language": "python",
   "name": "python2"
  },
  "language_info": {
   "codemirror_mode": {
    "name": "ipython",
    "version": 2
   },
   "file_extension": ".py",
   "mimetype": "text/x-python",
   "name": "python",
   "nbconvert_exporter": "python",
   "pygments_lexer": "ipython2",
   "version": "2.7.11"
  }
 },
 "nbformat": 4,
 "nbformat_minor": 0
}
