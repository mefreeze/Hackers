{
 "cells": [
  {
   "cell_type": "markdown",
   "metadata": {},
   "source": [
    "# Predict the Next Train Using MBTA's \"Prediction by Stop\""
   ]
  },
  {
   "cell_type": "markdown",
   "metadata": {},
   "source": [
    "Link to get predictions of next green line trains from Blandford St Station:\n",
    "\n",
    "http://realtime.mbta.com/developer/api/v2/predictionsbystop?api_key=wX9NwuHnZU2ToO7GmGR9uw&stop=place-bland&format=xml\n",
    "\n",
    "The predictions will be returned in Unix time, so we will need to import the datetime to convert to time we can understand."
   ]
  },
  {
   "cell_type": "code",
   "execution_count": 9,
   "metadata": {
    "collapsed": false
   },
   "outputs": [
    {
     "name": "stdout",
     "output_type": "stream",
     "text": [
      "The next train is at: 2016-04-04 21:16:58\n",
      "The time is now: 2016-04-04 21:14:09.787888\n"
     ]
    }
   ],
   "source": [
    "import datetime as dt\n",
    "\n",
    "# pre_dt from the URL gives you the predicted time of the next train. \n",
    "# Let's use this as an example:\n",
    "next_train = 1459819018\n",
    "converted_next_train = dt.datetime.fromtimestamp(next_train)\n",
    "print \"The next train is at:\", converted_next_train\n",
    "\n",
    "#now_time = dt.datetime.now()\n",
    "print \"The time is now:\", now_time"
   ]
  },
  {
   "cell_type": "markdown",
   "metadata": {},
   "source": [
    " You can take these times and subtract them from each other to know how long you have until the next train!!! So cool.\n",
    " I don't like how the microseconds are kept.... Trying to figure out how to remove them."
   ]
  },
  {
   "cell_type": "code",
   "execution_count": 10,
   "metadata": {
    "collapsed": false
   },
   "outputs": [
    {
     "name": "stdout",
     "output_type": "stream",
     "text": [
      "You have 0:02:48.212112 until the next train.\n"
     ]
    }
   ],
   "source": [
    "time_to_next_train = converted_next_train - now_time\n",
    "print \"You have\", time_to_next_train, \"until the next train.\""
   ]
  },
  {
   "cell_type": "markdown",
   "metadata": {},
   "source": [
    "Convert the time until the next train into seconds! Report no decimal points."
   ]
  },
  {
   "cell_type": "code",
   "execution_count": 1,
   "metadata": {
    "collapsed": false
   },
   "outputs": [
    {
     "ename": "NameError",
     "evalue": "name 'time_to_next_train' is not defined",
     "output_type": "error",
     "traceback": [
      "\u001b[1;31m---------------------------------------------------------------------------\u001b[0m",
      "\u001b[1;31mNameError\u001b[0m                                 Traceback (most recent call last)",
      "\u001b[1;32m<ipython-input-1-500d3c98ed77>\u001b[0m in \u001b[0;36m<module>\u001b[1;34m()\u001b[0m\n\u001b[1;32m----> 1\u001b[1;33m \u001b[0mtime_to_next_train_seconds\u001b[0m \u001b[1;33m=\u001b[0m \u001b[0mtime_to_next_train\u001b[0m\u001b[1;33m.\u001b[0m\u001b[0mtotal_seconds\u001b[0m\u001b[1;33m(\u001b[0m\u001b[1;33m)\u001b[0m\u001b[1;33m\u001b[0m\u001b[0m\n\u001b[0m\u001b[0;32m      2\u001b[0m \u001b[1;32mprint\u001b[0m \u001b[1;34m\"You have %.0f seconds until the next train.\"\u001b[0m \u001b[1;33m%\u001b[0m \u001b[0mtime_to_next_train_seconds\u001b[0m\u001b[1;33m\u001b[0m\u001b[0m\n",
      "\u001b[1;31mNameError\u001b[0m: name 'time_to_next_train' is not defined"
     ]
    }
   ],
   "source": [
    "time_to_next_train_seconds = time_to_next_train.total_seconds()\n",
    "print \"You have %.0f seconds until the next train.\" % time_to_next_train_seconds"
   ]
  },
  {
   "cell_type": "code",
   "execution_count": 3,
   "metadata": {
    "collapsed": false
   },
   "outputs": [
    {
     "data": {
      "text/plain": [
       "'11:17:15.979000'"
      ]
     },
     "execution_count": 3,
     "metadata": {},
     "output_type": "execute_result"
    }
   ],
   "source": [
    "import datetime\n",
    "current_time = datetime.datetime.now().time()\n",
    "current_time.isoformat()"
   ]
  }
 ],
 "metadata": {
  "kernelspec": {
   "display_name": "Python 2",
   "language": "python",
   "name": "python2"
  },
  "language_info": {
   "codemirror_mode": {
    "name": "ipython",
    "version": 2
   },
   "file_extension": ".py",
   "mimetype": "text/x-python",
   "name": "python",
   "nbconvert_exporter": "python",
   "pygments_lexer": "ipython2",
   "version": "2.7.11"
  }
 },
 "nbformat": 4,
 "nbformat_minor": 0
}
