{
 "cells": [
  {
   "cell_type": "markdown",
   "metadata": {},
   "source": [
    "# Predict the Next Train Using MBTA's \"Prediction by Stop\""
   ]
  },
  {
   "cell_type": "markdown",
   "metadata": {},
   "source": [
    "Link to get predictions of next green line trains from Blandford St Station:\n",
    "\n",
    "http://realtime.mbta.com/developer/api/v2/predictionsbystop?api_key=wX9NwuHnZU2ToO7GmGR9uw&stop=place-bland&format=xml\n",
    "\n",
    "The predictions will be returned in Unix time, so we will need to import the datetime to convert to time we can understand."
   ]
  },
  {
   "cell_type": "code",
   "execution_count": 1,
   "metadata": {
    "collapsed": false
   },
   "outputs": [],
   "source": [
    "import datetime as dt\n",
    "import json\n",
    "import urllib2"
   ]
  },
  {
   "cell_type": "code",
   "execution_count": 2,
   "metadata": {
    "collapsed": false
   },
   "outputs": [],
   "source": [
    "stops = 'http://realtime.mbta.com/developer/api/v2/predictionsbystop?api_key=wX9NwuHnZU2ToO7GmGR9uw&stop=place-bland&format=json'\n",
    "stop_data = json.load(urllib2.urlopen(stops))"
   ]
  },
  {
   "cell_type": "code",
   "execution_count": 3,
   "metadata": {
    "collapsed": false
   },
   "outputs": [
    {
     "data": {
      "text/plain": [
       "[{u'pre_away': u'70',\n",
       "  u'pre_dt': u'1462554875',\n",
       "  u'trip_headsign': u'Boston College',\n",
       "  u'trip_id': u'750_0',\n",
       "  u'trip_name': u'B train from Park Street to Boston College',\n",
       "  u'vehicle': {u'vehicle_bearing': u'275',\n",
       "   u'vehicle_id': u'3674',\n",
       "   u'vehicle_lat': u'42.34898',\n",
       "   u'vehicle_lon': u'-71.09414',\n",
       "   u'vehicle_timestamp': u'1462554786'}},\n",
       " {u'pre_away': u'321',\n",
       "  u'pre_dt': u'1462555126',\n",
       "  u'trip_headsign': u'Boston College',\n",
       "  u'trip_id': u'755_0',\n",
       "  u'trip_name': u'B train from Park Street to Boston College',\n",
       "  u'vehicle': {u'vehicle_bearing': u'240',\n",
       "   u'vehicle_id': u'3800',\n",
       "   u'vehicle_lat': u'42.34996',\n",
       "   u'vehicle_lon': u'-71.07792',\n",
       "   u'vehicle_timestamp': u'1462554783'}},\n",
       " {u'pre_away': u'641',\n",
       "  u'pre_dt': u'1462555446',\n",
       "  u'trip_headsign': u'Boston College',\n",
       "  u'trip_id': u'761_0',\n",
       "  u'trip_name': u'B train from Park Street to Boston College',\n",
       "  u'vehicle': {u'vehicle_bearing': u'210',\n",
       "   u'vehicle_id': u'3856',\n",
       "   u'vehicle_lat': u'42.35556',\n",
       "   u'vehicle_lon': u'-71.06326',\n",
       "   u'vehicle_timestamp': u'1462554758'}}]"
      ]
     },
     "execution_count": 3,
     "metadata": {},
     "output_type": "execute_result"
    }
   ],
   "source": [
    "stop_data['mode'][0]['route'][0]['direction'][0]['trip']"
   ]
  },
  {
   "cell_type": "code",
   "execution_count": 4,
   "metadata": {
    "collapsed": true
   },
   "outputs": [],
   "source": [
    "def next_trains():\n",
    "    stops = 'http://realtime.mbta.com/developer/api/v2/predictionsbystop?api_key=wX9NwuHnZU2ToO7GmGR9uw&stop=place-bland&format=json'\n",
    "    stop_data = json.load(urllib2.urlopen(stops))\n",
    "    \n",
    "    if len(stop_data['mode'][0]['route'][0]['direction'][0]['trip']) > 0:\n",
    "        westbound_trains_list = stop_data['mode'][0]['route'][0]['direction'][0]['trip']\n",
    "    \n",
    "        next_west_times = []\n",
    "        for i in range(0,len(westbound_trains_list)):\n",
    "            now_time = dt.datetime.now()\n",
    "            next_unix_time = float(westbound_trains_list[i]['pre_dt'])\n",
    "            converted_next_train = dt.datetime.fromtimestamp(next_unix_time)\n",
    "            next_west_times.append(converted_next_train-now_time)\n",
    "    else:\n",
    "        next_west_times = []\n",
    "\n",
    "    if len(stop_data['mode'][0]['route'][0]['direction'][1]['trip']) > 0:\n",
    "        eastbound_trains_list = stop_data['mode'][0]['route'][0]['direction'][1]['trip']\n",
    "    \n",
    "        next_east_times = []\n",
    "        for i in range(0,len(eastbound_trains_list)):\n",
    "            now_time = dt.datetime.now()\n",
    "            next_unix_time = float(eastbound_trains_list[i]['pre_dt'])\n",
    "            converted_next_train = dt.datetime.fromtimestamp(next_unix_time)\n",
    "            next_east_times.append(converted_next_train-now_time)\n",
    "    else:\n",
    "        next_east_times = []\n",
    "\n",
    "    return next_east_times, next_west_times, stop_data\n",
    "\n",
    "def print_next_times(deltatimes):\n",
    "    if deltatimes == []:\n",
    "        print \"There are currently no predictions for this direction.\"\n",
    "    for i in range(0,len(deltatimes)):\n",
    "        print round(deltatimes[i].days*24*float(60) + deltatimes[i].seconds/float(60), 1)"
   ]
  },
  {
   "cell_type": "code",
   "execution_count": 5,
   "metadata": {
    "collapsed": false,
    "scrolled": true
   },
   "outputs": [],
   "source": [
    "east, west, stop_data = next_trains()"
   ]
  },
  {
   "cell_type": "code",
   "execution_count": 6,
   "metadata": {
    "collapsed": false
   },
   "outputs": [
    {
     "data": {
      "text/plain": [
       "[datetime.timedelta(0, 91, 723194),\n",
       " datetime.timedelta(0, 522, 723186),\n",
       " datetime.timedelta(0, 868, 723179),\n",
       " datetime.timedelta(0, 1297, 723172)]"
      ]
     },
     "execution_count": 6,
     "metadata": {},
     "output_type": "execute_result"
    }
   ],
   "source": [
    "east"
   ]
  },
  {
   "cell_type": "code",
   "execution_count": 7,
   "metadata": {
    "collapsed": false
   },
   "outputs": [
    {
     "data": {
      "text/plain": [
       "[datetime.timedelta(0, 30, 735108),\n",
       " datetime.timedelta(0, 282, 723238),\n",
       " datetime.timedelta(0, 654, 723218)]"
      ]
     },
     "execution_count": 7,
     "metadata": {},
     "output_type": "execute_result"
    }
   ],
   "source": [
    "west"
   ]
  },
  {
   "cell_type": "code",
   "execution_count": 8,
   "metadata": {
    "collapsed": false
   },
   "outputs": [
    {
     "name": "stdout",
     "output_type": "stream",
     "text": [
      "1.5\n",
      "8.7\n",
      "14.5\n",
      "21.6\n"
     ]
    }
   ],
   "source": [
    "print_next_times(east)"
   ]
  },
  {
   "cell_type": "code",
   "execution_count": 9,
   "metadata": {
    "collapsed": false
   },
   "outputs": [
    {
     "name": "stdout",
     "output_type": "stream",
     "text": [
      "0.5\n",
      "4.7\n",
      "10.9\n"
     ]
    }
   ],
   "source": [
    "print_next_times(west)"
   ]
  },
  {
   "cell_type": "code",
   "execution_count": 10,
   "metadata": {
    "collapsed": false
   },
   "outputs": [
    {
     "data": {
      "text/plain": [
       "{u'alert_headers': [],\n",
       " u'mode': [{u'mode_name': u'Subway',\n",
       "   u'route': [{u'direction': [{u'direction_id': u'0',\n",
       "       u'direction_name': u'Westbound',\n",
       "       u'trip': [{u'pre_away': u'38',\n",
       "         u'pre_dt': u'1462554874',\n",
       "         u'trip_headsign': u'Boston College',\n",
       "         u'trip_id': u'750_0',\n",
       "         u'trip_name': u'B train from Park Street to Boston College',\n",
       "         u'vehicle': {u'vehicle_bearing': u'270',\n",
       "          u'vehicle_id': u'3674',\n",
       "          u'vehicle_lat': u'42.34894',\n",
       "          u'vehicle_lon': u'-71.09528',\n",
       "          u'vehicle_timestamp': u'1462554795'}},\n",
       "        {u'pre_away': u'290',\n",
       "         u'pre_dt': u'1462555126',\n",
       "         u'trip_headsign': u'Boston College',\n",
       "         u'trip_id': u'755_0',\n",
       "         u'trip_name': u'B train from Park Street to Boston College',\n",
       "         u'vehicle': {u'vehicle_bearing': u'240',\n",
       "          u'vehicle_id': u'3800',\n",
       "          u'vehicle_lat': u'42.34996',\n",
       "          u'vehicle_lon': u'-71.07792',\n",
       "          u'vehicle_timestamp': u'1462554783'}},\n",
       "        {u'pre_away': u'662',\n",
       "         u'pre_dt': u'1462555498',\n",
       "         u'trip_headsign': u'Boston College',\n",
       "         u'trip_id': u'761_0',\n",
       "         u'trip_name': u'B train from Park Street to Boston College',\n",
       "         u'vehicle': {u'vehicle_bearing': u'210',\n",
       "          u'vehicle_id': u'3856',\n",
       "          u'vehicle_lat': u'42.35556',\n",
       "          u'vehicle_lon': u'-71.06326',\n",
       "          u'vehicle_timestamp': u'1462554758'}}]},\n",
       "      {u'direction_id': u'1',\n",
       "       u'direction_name': u'Eastbound',\n",
       "       u'trip': [{u'pre_away': u'99',\n",
       "         u'pre_dt': u'1462554935',\n",
       "         u'trip_headsign': u'Park Street',\n",
       "         u'trip_id': u'727_1',\n",
       "         u'trip_name': u'B train from Boston College to Park Street',\n",
       "         u'vehicle': {u'vehicle_bearing': u'99',\n",
       "          u'vehicle_id': u'3880',\n",
       "          u'vehicle_lat': u'42.34993',\n",
       "          u'vehicle_lon': u'-71.10616',\n",
       "          u'vehicle_timestamp': u'1462554821'}},\n",
       "        {u'pre_away': u'530',\n",
       "         u'pre_dt': u'1462555366',\n",
       "         u'trip_headsign': u'Park Street',\n",
       "         u'trip_id': u'740_1',\n",
       "         u'trip_name': u'B train from Boston College to Park Street',\n",
       "         u'vehicle': {u'vehicle_bearing': u'47',\n",
       "          u'vehicle_id': u'3647',\n",
       "          u'vehicle_lat': u'42.3517',\n",
       "          u'vehicle_lon': u'-71.1253',\n",
       "          u'vehicle_timestamp': u'1462554772'}},\n",
       "        {u'pre_away': u'876',\n",
       "         u'pre_dt': u'1462555712',\n",
       "         u'trip_headsign': u'Park Street',\n",
       "         u'trip_id': u'742_1',\n",
       "         u'trip_name': u'B train from Boston College to Park Street',\n",
       "         u'vehicle': {u'vehicle_bearing': u'112',\n",
       "          u'vehicle_id': u'3818',\n",
       "          u'vehicle_lat': u'42.34872',\n",
       "          u'vehicle_lon': u'-71.13809',\n",
       "          u'vehicle_timestamp': u'1462554818'}},\n",
       "        {u'pre_away': u'1305',\n",
       "         u'pre_dt': u'1462556141',\n",
       "         u'trip_headsign': u'Park Street',\n",
       "         u'trip_id': u'754_1',\n",
       "         u'trip_name': u'B train from Boston College to Park Street',\n",
       "         u'vehicle': {u'vehicle_bearing': u'47',\n",
       "          u'vehicle_id': u'3635',\n",
       "          u'vehicle_lat': u'42.33843',\n",
       "          u'vehicle_lon': u'-71.15274',\n",
       "          u'vehicle_timestamp': u'1462554819'}}]}],\n",
       "     u'route_id': u'Green-B',\n",
       "     u'route_name': u'Green Line B'}],\n",
       "   u'route_type': u'0'}],\n",
       " u'stop_id': u'place-bland',\n",
       " u'stop_name': u'Blandford Street'}"
      ]
     },
     "execution_count": 10,
     "metadata": {},
     "output_type": "execute_result"
    }
   ],
   "source": [
    "stop_data"
   ]
  },
  {
   "cell_type": "code",
   "execution_count": 11,
   "metadata": {
    "collapsed": false
   },
   "outputs": [
    {
     "name": "stdout",
     "output_type": "stream",
     "text": [
      "There are currently no predictions for this direction.\n"
     ]
    }
   ],
   "source": [
    "print_next_times([])"
   ]
  },
  {
   "cell_type": "code",
   "execution_count": 12,
   "metadata": {
    "collapsed": true
   },
   "outputs": [],
   "source": [
    "import os\n",
    "#new comment"
   ]
  },
  {
   "cell_type": "code",
   "execution_count": 14,
   "metadata": {
    "collapsed": false
   },
   "outputs": [
    {
     "data": {
      "text/plain": [
       "'/Users/ryan/Analytic_Enterprise/python/Hackers'"
      ]
     },
     "execution_count": 14,
     "metadata": {},
     "output_type": "execute_result"
    }
   ],
   "source": [
    "os.getcwd()"
   ]
  },
  {
   "cell_type": "code",
   "execution_count": null,
   "metadata": {
    "collapsed": true
   },
   "outputs": [],
   "source": []
  }
 ],
 "metadata": {
  "kernelspec": {
   "display_name": "Python 2",
   "language": "python",
   "name": "python2"
  },
  "language_info": {
   "codemirror_mode": {
    "name": "ipython",
    "version": 2
   },
   "file_extension": ".py",
   "mimetype": "text/x-python",
   "name": "python",
   "nbconvert_exporter": "python",
   "pygments_lexer": "ipython2",
   "version": "2.7.11"
  }
 },
 "nbformat": 4,
 "nbformat_minor": 0
}
