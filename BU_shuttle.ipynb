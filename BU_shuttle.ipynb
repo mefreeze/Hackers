{
 "cells": [
  {
   "cell_type": "code",
   "execution_count": 42,
   "metadata": {
    "collapsed": false
   },
   "outputs": [
    {
     "data": {
      "text/plain": [
       "[{u'call_name': u'2127',\n",
       "  u'coordinates': u'-71.03062,42.19469',\n",
       "  u'general_heading': 225,\n",
       "  u'heading': u'239',\n",
       "  u'id': u'4007504',\n",
       "  u'lat': u'42.19469',\n",
       "  u'lng': u'-71.03062',\n",
       "  u'speed': u'0',\n",
       "  u'timestamp': u'2016-04-18T20:42:47+00Z'},\n",
       " {u'call_name': u'2124',\n",
       "  u'coordinates': u'-71.02967,42.19444',\n",
       "  u'general_heading': 0,\n",
       "  u'heading': u'16',\n",
       "  u'id': u'4007492',\n",
       "  u'lat': u'42.19444',\n",
       "  u'lng': u'-71.02967',\n",
       "  u'speed': u'0',\n",
       "  u'timestamp': u'2016-04-18T20:42:46+00Z'}]"
      ]
     },
     "execution_count": 42,
     "metadata": {},
     "output_type": "execute_result"
    }
   ],
   "source": [
    "import json\n",
    "import urllib2\n",
    "\n",
    "url = 'http://www.bu.edu/bumobile/rpc/bus/livebus.json.php?callback=?'\n",
    "data = json.load(urllib2.urlopen(url))\n",
    "\n",
    "pydict = {'first': ['Anna','Tess','Sam'], 'last':['Isaacson','Goode','Lasser'], 'foods': ['ice', 'wine', 'cream']}\n",
    "huh = iter(pydict)\n",
    "pairs = zip(pydict.values(), pydict.keys())\n",
    "#example = pydict.popitem()\n",
    "keys = data.viewkeys()\n",
    "values = data.viewvalues()\n",
    "#json.dumps(data,indent = 4, sort_keys = True)\n",
    "maybe = data['ResultSet']['Result']\n",
    "maybe"
   ]
  }
 ],
 "metadata": {
  "kernelspec": {
   "display_name": "Python 2",
   "language": "python",
   "name": "python2"
  },
  "language_info": {
   "codemirror_mode": {
    "name": "ipython",
    "version": 2
   },
   "file_extension": ".py",
   "mimetype": "text/x-python",
   "name": "python",
   "nbconvert_exporter": "python",
   "pygments_lexer": "ipython2",
   "version": "2.7.11"
  }
 },
 "nbformat": 4,
 "nbformat_minor": 0
}
