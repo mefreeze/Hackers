{
 "cells": [
  {
   "cell_type": "code",
   "execution_count": 43,
   "metadata": {
    "collapsed": false
   },
   "outputs": [
    {
     "data": {
      "text/plain": [
       "[{u'call_name': u'2127',\n",
       "  u'coordinates': u'-71.03058,42.19476',\n",
       "  u'general_heading': 0,\n",
       "  u'heading': u'22',\n",
       "  u'id': u'4007504',\n",
       "  u'lat': u'42.19476',\n",
       "  u'lng': u'-71.03058',\n",
       "  u'speed': u'0',\n",
       "  u'timestamp': u'2016-04-18T20:51:45+00Z'},\n",
       " {u'call_name': u'2124',\n",
       "  u'coordinates': u'-71.02971,42.19445',\n",
       "  u'general_heading': 315,\n",
       "  u'heading': u'323',\n",
       "  u'id': u'4007492',\n",
       "  u'lat': u'42.19445',\n",
       "  u'lng': u'-71.02971',\n",
       "  u'speed': u'0',\n",
       "  u'timestamp': u'2016-04-18T20:51:44+00Z'}]"
      ]
     },
     "execution_count": 43,
     "metadata": {},
     "output_type": "execute_result"
    }
   ],
   "source": [
    "import json\n",
    "import urllib2\n",
    "\n",
    "url = 'http://www.bu.edu/bumobile/rpc/bus/livebus.json.php?callback=?'\n",
    "data = json.load(urllib2.urlopen(url))\n",
    "\n",
    "keys = data.viewkeys()\n",
    "values = data.viewvalues()\n",
    "\n",
    "#Attempt at prettification...\n",
    "#json.dumps(data,indent = 4, sort_keys = True)\n",
    "relevant = data['ResultSet']['Result']\n",
    "relevant"
   ]
  }
 ],
 "metadata": {
  "kernelspec": {
   "display_name": "Python 2",
   "language": "python",
   "name": "python2"
  },
  "language_info": {
   "codemirror_mode": {
    "name": "ipython",
    "version": 2
   },
   "file_extension": ".py",
   "mimetype": "text/x-python",
   "name": "python",
   "nbconvert_exporter": "python",
   "pygments_lexer": "ipython2",
   "version": "2.7.11"
  }
 },
 "nbformat": 4,
 "nbformat_minor": 0
}
