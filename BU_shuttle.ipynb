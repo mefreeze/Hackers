{
 "cells": [
  {
   "cell_type": "code",
   "execution_count": 81,
   "metadata": {
    "collapsed": false
   },
   "outputs": [
    {
     "name": "stdout",
     "output_type": "stream",
     "text": [
      "2016-04-19T12:37:30-04:00\n",
      "2016-04-19T12:56:23-04:00\n",
      "2016-04-19T12:06:43-04:00\n"
     ]
    }
   ],
   "source": [
    "import json\n",
    "import urllib2\n",
    "\n",
    "url = 'http://www.bu.edu/bumobile/rpc/bus/livebus.json.php?callback=?'\n",
    "data = json.load(urllib2.urlopen(url))\n",
    "\n",
    "keys = data.viewkeys()\n",
    "values = data.viewvalues()\n",
    "bustop = '4160730'\n",
    "\n",
    "#Attempt at prettification...\n",
    "relevant = data['ResultSet']['Result']\n",
    "#print json.dumps(data,indent = 4, sort_keys = True)\n",
    "#print json.dumps(relevant,indent = 4, sort_keys = True)\n",
    "\n",
    "for keynum in range(0,len(relevant)):\n",
    "    arrivalests = data['ResultSet']['Result'][keynum][\"arrival_estimates\"]\n",
    "    for keyno in range(0,len(arrivalests)):\n",
    "        stop = arrivalests[keyno][\"stop_id\"]\n",
    "        if stop == bustop:\n",
    "            print arrivalests[keyno][\"arrival_at\"]"
   ]
  }
 ],
 "metadata": {
  "kernelspec": {
   "display_name": "Python 2",
   "language": "python",
   "name": "python2"
  },
  "language_info": {
   "codemirror_mode": {
    "name": "ipython",
    "version": 2
   },
   "file_extension": ".py",
   "mimetype": "text/x-python",
   "name": "python",
   "nbconvert_exporter": "python",
   "pygments_lexer": "ipython2",
   "version": "2.7.11"
  }
 },
 "nbformat": 4,
 "nbformat_minor": 0
}
